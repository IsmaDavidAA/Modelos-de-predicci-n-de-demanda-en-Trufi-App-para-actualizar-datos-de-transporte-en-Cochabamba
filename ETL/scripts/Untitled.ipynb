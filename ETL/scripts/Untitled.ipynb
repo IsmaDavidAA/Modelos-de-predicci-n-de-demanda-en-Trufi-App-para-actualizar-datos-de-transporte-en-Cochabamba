{
 "cells": [
  {
   "cell_type": "code",
   "execution_count": null,
   "id": "96660367",
   "metadata": {},
   "outputs": [],
   "source": [
    "# pip install folium geopandas"
   ]
  },
  {
   "cell_type": "code",
   "execution_count": 18,
   "id": "f3266505",
   "metadata": {},
   "outputs": [
    {
     "name": "stdout",
     "output_type": "stream",
     "text": [
      "Index(['id', 'objectid', 'c_ut', 'DEPARTAMEN', 'PROVINCIA', 'MUNICIPIO',\n",
      "       'CAPITAL', 'shape_leng', 'shape_area', 'REGION', 'geometry'],\n",
      "      dtype='object')\n"
     ]
    }
   ],
   "source": [
    "import geopandas as gpd\n",
    "import pandas as pd\n",
    "from shapely.geometry import Point\n",
    "import os\n",
    "import json\n",
    "\n",
    "def cargar_datos():\n",
    "    # Obtener el directorio actual del cuaderno de Jupyter\n",
    "    script_path = os.getcwd()\n",
    "\n",
    "    # Retroceder dos directorios para llegar al directorio principal\n",
    "    config_file_path = os.path.abspath(os.path.join(os.path.dirname(script_path), 'config.json'))\n",
    "\n",
    "    # Cargar configuración desde el archivo config.json\n",
    "    with open(config_file_path, 'r') as config_file:\n",
    "        config = json.load(config_file)\n",
    "\n",
    "    # Obtener el valor de MAIN_ROUTE\n",
    "    main_route = config.get(\"MAIN_ROUTE\", \"\")\n",
    "\n",
    "    # Verificar que MAIN_ROUTE tiene un valor antes de usarlo\n",
    "    if not main_route:\n",
    "        print(config_file_path, \"Error: MAIN_ROUTE no está configurado en config.json\")\n",
    "    else:\n",
    "        # Construir la ruta completa\n",
    "        maps_path = os.path.join(main_route, 'Dataset', 'region_cochabamba_2018')\n",
    "\n",
    "        # Cargar el archivo shapefile o geoJSON\n",
    "        gdf = gpd.read_file(os.path.join(maps_path, 'region_cochabamba_2018.geojson'))\n",
    "        print(gdf.columns)\n",
    "\n",
    "# Llamar a la función para cargar los datos\n",
    "cargar_datos()\n"
   ]
  },
  {
   "cell_type": "code",
   "execution_count": null,
   "id": "2f42fcb8",
   "metadata": {},
   "outputs": [],
   "source": [
    "\n",
    "data = pd.read_csv(os.path.join(repository_path, 'origin-destination.csv'), encoding='latin1')\n",
    "\n",
    "# Nombre del archivo CSV de salida\n",
    "ruta_csv_path = 'ruta.csv'\n",
    "origin_csv_path = 'origin.csv'\n",
    "destination_csv_path = 'destination.csv'\n",
    "\n",
    "# Crear los archivos CSV de salida\n",
    "with open(ruta_csv_path, 'w') as ruta_file, open(origin_csv_path, 'w') as origin_file, open(destination_csv_path, 'w') as destination_file:\n",
    "    # Encabezados para 'ruta'\n",
    "    ruta_file.write(\"provider_ip,date_time,client_id,route_id\\n\")\n",
    "\n",
    "    # Encabezados para 'origin'\n",
    "    origin_file.write(\"route_id,origin_latitude,origin_longitude,capital_origin\\n\")\n",
    "\n",
    "    # Encabezados para 'destination'\n",
    "    destination_file.write(\"route_id,destination_latitude,destination_longitude,capital_destination\\n\")\n",
    "\n",
    "    # Generar claves para la relación\n",
    "    route_id_counter = 1\n",
    "\n",
    "    for index, row in data.iterrows():\n",
    "        # Agregar datos a la tabla 'ruta'\n",
    "        ruta_file.write(f\"{row['provider_ip']},{row['date_time']},{row['client_id']},{route_id_counter}\\n\")\n",
    "\n",
    "        # Agregar datos a la tabla 'origin'\n",
    "        origin_file.write(f\"{route_id_counter},{row['origin_latitude']},{row['origin_longitude']},{row['capital_origin']}\\n\")\n",
    "\n",
    "        # Agregar datos a la tabla 'destination'\n",
    "        destination_file.write(f\"{route_id_counter},{row['destination_latitude']},{row['destination_longitude']},{row['capital_destination']}\\n\")\n",
    "\n",
    "        # Incrementar el contador de route_id\n",
    "        route_id_counter += 1\n",
    "\n",
    "print(\"Proceso completado\")\n"
   ]
  }
 ],
 "metadata": {
  "kernelspec": {
   "display_name": "Python 3 (ipykernel)",
   "language": "python",
   "name": "python3"
  },
  "language_info": {
   "codemirror_mode": {
    "name": "ipython",
    "version": 3
   },
   "file_extension": ".py",
   "mimetype": "text/x-python",
   "name": "python",
   "nbconvert_exporter": "python",
   "pygments_lexer": "ipython3",
   "version": "3.10.12"
  }
 },
 "nbformat": 4,
 "nbformat_minor": 5
}
